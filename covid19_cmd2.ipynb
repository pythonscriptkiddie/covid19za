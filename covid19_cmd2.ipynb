{
 "cells": [
  {
   "cell_type": "code",
   "execution_count": 55,
   "metadata": {},
   "outputs": [
    {
     "data": {
      "text/plain": [
       "100"
      ]
     },
     "execution_count": 55,
     "metadata": {},
     "output_type": "execute_result"
    }
   ],
   "source": [
    "import pandas as pd\n",
    "pd.options.display.max_colwidth"
   ]
  },
  {
   "cell_type": "code",
   "execution_count": 56,
   "metadata": {},
   "outputs": [],
   "source": [
    "pd.options.display.max_colwidth=100"
   ]
  },
  {
   "cell_type": "code",
   "execution_count": 57,
   "metadata": {},
   "outputs": [],
   "source": [
    "pd.reset_option(\"display.max_colwidth\")"
   ]
  },
  {
   "cell_type": "code",
   "execution_count": 58,
   "metadata": {},
   "outputs": [],
   "source": [
    "#!/usr/bin/env python3\n",
    "# coding=utf-8\n",
    "\"\"\"A simple example demonstrating how to use Argparse to support subcommands.\n",
    "This example shows an easy way for a single command to have many subcommands, each of which takes different arguments\n",
    "and provides separate contextual help.\n",
    "\"\"\"\n",
    "import argparse\n",
    "import cmd2\n",
    "from cmd2 import style, fg, bg\n",
    "import os\n",
    "import pandas as pd\n",
    "import seaborn as sns\n",
    "from datetime import datetime\n",
    "import matplotlib.pyplot as plt\n",
    "from notebooks.scripts import graphs\n",
    "import warnings\n",
    "warnings.filterwarnings('ignore')\n",
    "%matplotlib inline\n",
    "pd.options.display.max_colwidth = 100\n",
    "\n",
    "\n"
   ]
  },
  {
   "cell_type": "code",
   "execution_count": 59,
   "metadata": {},
   "outputs": [],
   "source": [
    "#sport_item_strs = ['Bat', 'Basket', 'Basketball', 'Football', 'Space Ball']\n",
    "\n",
    "view_data_choices = ['yes', 'no']\n",
    "\n",
    "view_data_parser = argparse.ArgumentParser()\n",
    "view_data_parser.add_argument('-dh', '--dataframe_head', help='view data help',\n",
    "                             choices=view_data_choices)\n",
    "\n",
    "\n",
    "# create the top-level parser for the base command\n",
    "base_parser = argparse.ArgumentParser()\n",
    "base_subparsers = base_parser.add_subparsers(title='subcommands', help='subcommand help')\n",
    "\n",
    "# create the parser for the \"foo\" subcommand\n",
    "parser_foo = base_subparsers.add_parser('foo', help='foo help')\n",
    "parser_foo.add_argument('-x', type=int, default=1, help='integer')\n",
    "parser_foo.add_argument('y', type=float, help='float')\n",
    "parser_foo.add_argument('input_file', type=str, help='Input File')\n",
    "\n",
    "# create the parser for the \"bar\" subcommand\n",
    "parser_bar = base_subparsers.add_parser('bar', help='bar help')\n",
    "\n",
    "bar_subparsers = parser_bar.add_subparsers(title='layer3', help='help for 3rd layer of commands')\n",
    "parser_bar.add_argument('z', help='string')\n",
    "\n",
    "bar_subparsers.add_parser('apple', help='apple help')\n",
    "bar_subparsers.add_parser('artichoke', help='artichoke help')\n",
    "bar_subparsers.add_parser('cranberries', help='cranberries help')\n",
    "\n",
    "# create the parser for the \"sport\" subcommand\n",
    "parser_sport = base_subparsers.add_parser('sport', help='sport help')\n",
    "sport_arg = parser_sport.add_argument('sport', help='Enter name of a sport', choices=sport_item_strs)\n",
    "\n",
    "\n",
    "# create the top-level parser for the alternate command\n",
    "# The alternate command doesn't provide its own help flag\n",
    "base2_parser = argparse.ArgumentParser(add_help=False)\n",
    "base2_subparsers = base2_parser.add_subparsers(title='subcommands', help='subcommand help')\n",
    "\n",
    "# create the parser for the \"foo\" subcommand\n",
    "parser_foo2 = base2_subparsers.add_parser('foo', help='foo help')\n",
    "parser_foo2.add_argument('-x', type=int, default=1, help='integer')\n",
    "parser_foo2.add_argument('y', type=float, help='float')\n",
    "parser_foo2.add_argument('input_file', type=str, help='Input File')\n",
    "\n",
    "# create the parser for the \"bar\" subcommand\n",
    "parser_bar2 = base2_subparsers.add_parser('bar', help='bar help')\n",
    "\n",
    "bar2_subparsers = parser_bar2.add_subparsers(title='layer3', help='help for 3rd layer of commands')\n",
    "parser_bar2.add_argument('z', help='string')\n",
    "\n",
    "bar2_subparsers.add_parser('apple', help='apple help')\n",
    "bar2_subparsers.add_parser('artichoke', help='artichoke help')\n",
    "bar2_subparsers.add_parser('cranberries', help='cranberries help')\n",
    "\n",
    "# create the parser for the \"sport\" subcommand\n",
    "parser_sport2 = base2_subparsers.add_parser('sport', help='sport help')\n",
    "sport2_arg = parser_sport2.add_argument('sport', help='Enter name of a sport', choices=sport_item_strs)"
   ]
  },
  {
   "cell_type": "code",
   "execution_count": 62,
   "metadata": {},
   "outputs": [],
   "source": [
    "class Covid19SACli(cmd2.Cmd):\n",
    "    \"\"\"\n",
    "    Example cmd2 application where we a base command which has a couple subcommands\n",
    "    and the \"sport\" subcommand has tab completion enabled.\n",
    "    \"\"\"\n",
    "    def __init__(self):\n",
    "        super().__init__(use_ipython=True)\n",
    "        self.self_in_py = True\n",
    "        self.add_settable(cmd2.Settable('data_loaded',str,'short help message for mysetting'))\n",
    "        self.settables['df'] = None\n",
    "        self.settables['df_tests'] = None\n",
    "        self.settables['df_travel'] = None\n",
    "        self.intro='Welcome to SACovidCli'\n",
    "        os.listdir('data')\n",
    "        \n",
    "        #self.df = pd.read_csv('data/covid19za_timeline_confirmed.csv')\n",
    "        #self.df_tests = pd.read_csv('data/covid19za_timeline_testing.csv')\n",
    "        #self.df_travel = pd.read_csv('data/covid19za_travel_locations_coordinates.csv')\n",
    "    \n",
    "\n",
    "    # subcommand functions for the base command\n",
    "    def base_foo(self, args):\n",
    "        \"\"\"foo subcommand of base command\"\"\"\n",
    "        self.poutput(args.x * args.y)\n",
    "\n",
    "    def base_bar(self, args):\n",
    "        \"\"\"bar subcommand of base command\"\"\"\n",
    "        self.poutput('((%s))' % args.z)\n",
    "\n",
    "    def base_sport(self, args):\n",
    "        \"\"\"sport subcommand of base command\"\"\"\n",
    "        self.poutput('Sport is {}'.format(args.sport))\n",
    "\n",
    "    # Set handler functions for the subcommands\n",
    "    parser_foo.set_defaults(func=base_foo)\n",
    "    parser_bar.set_defaults(func=base_bar)\n",
    "    parser_sport.set_defaults(func=base_sport)\n",
    "\n",
    "    @cmd2.with_argparser(base_parser)\n",
    "    def do_base(self, args):\n",
    "        \"\"\"Base command help\"\"\"\n",
    "        func = getattr(args, 'func', None)\n",
    "        if func is not None:\n",
    "            # Call whatever subcommand function was selected\n",
    "            func(self, args)\n",
    "        else:\n",
    "            # No subcommand was provided, so call help\n",
    "            self.do_help('base')\n",
    "\n",
    "    @cmd2.with_argparser(base2_parser)\n",
    "    def do_alternate(self, args):\n",
    "        \"\"\"Alternate command help\"\"\"\n",
    "        func = getattr(args, 'func', None)\n",
    "        if func is not None:\n",
    "            # Call whatever subcommand function was selected\n",
    "            func(self, args)\n",
    "        else:\n",
    "            # No subcommand was provided, so call help\n",
    "            self.do_help('alternate')\n",
    "            \n",
    "    \n",
    "    \n",
    "    \n",
    "    #view data section - loads the data heading\n",
    "            \n",
    "    @cmd2.with_argparser(view_data_parser)\n",
    "    def do_view_data(self, args):\n",
    "        \"\"\"Displays the data in a basic format\"\"\"\n",
    "        if args.dataframe_head == 'yes':\n",
    "            if self.settables['df'] == None:\n",
    "                prep_data = self.select(['yes', 'no'])\n",
    "                if prep_data == 'no':\n",
    "                    self.poutput('data not loaded, return to main menu')\n",
    "                    return None\n",
    "                else:\n",
    "                    self.settables['df'] = pd.read_csv('data/covid19za_timeline_confirmed.csv')\n",
    "                    self.settables['df_testing'] = pd.read_csv('data/covid19za_timeline_testing.csv')\n",
    "                    self.settables['df_travel'] = pd.read_csv('data/covid19za_travel_locations_coordinates.csv')\n",
    "        self.poutput(self.settables['df'].head())\n",
    "            \n",
    "        \n",
    "            \n",
    "        if args.dataframe_head == 'yes':\n",
    "            #display the data like in the notebook\n",
    "            self.poutput(self.df.head())\n",
    "            \n",
    "    def do_exit(self, arg):\n",
    "        '''Exits the program, any existing database connections will be closed'''\n",
    "        #self.session.close()\n",
    "        self.poutput(msg='Exiting Covid19cli')\n",
    "        #print('Exiting Roundup Generator')\n",
    "        return True"
   ]
  },
  {
   "cell_type": "code",
   "execution_count": 63,
   "metadata": {},
   "outputs": [
    {
     "name": "stderr",
     "output_type": "stream",
     "text": [
      "-f is not a recognized command, alias, or macro\n",
      "/Users/thomassullivan/Library/Jupyter/runtime/kernel-74ae6605-cc07-4579-a46a-aaa39030f7ac.json is not a recognized command, alias, or macro\n"
     ]
    },
    {
     "name": "stdout",
     "output_type": "stream",
     "text": [
      "Welcome to SACovidCli\n"
     ]
    },
    {
     "name": "stdin",
     "output_type": "stream",
     "text": [
      " exit\n"
     ]
    },
    {
     "name": "stdout",
     "output_type": "stream",
     "text": [
      "Exiting Covid19cli\n"
     ]
    },
    {
     "ename": "SystemExit",
     "evalue": "0",
     "output_type": "error",
     "traceback": [
      "An exception has occurred, use %tb to see the full traceback.\n",
      "\u001b[0;31mSystemExit\u001b[0m\u001b[0;31m:\u001b[0m 0\n"
     ]
    }
   ],
   "source": [
    "if __name__ == '__main__':\n",
    "    import sys\n",
    "    app = Covid19SACli()\n",
    "    sys.exit(app.cmdloop())"
   ]
  },
  {
   "cell_type": "code",
   "execution_count": null,
   "metadata": {},
   "outputs": [],
   "source": []
  }
 ],
 "metadata": {
  "kernelspec": {
   "display_name": "Python 3",
   "language": "python",
   "name": "python3"
  },
  "language_info": {
   "codemirror_mode": {
    "name": "ipython",
    "version": 3
   },
   "file_extension": ".py",
   "mimetype": "text/x-python",
   "name": "python",
   "nbconvert_exporter": "python",
   "pygments_lexer": "ipython3",
   "version": "3.8.2"
  }
 },
 "nbformat": 4,
 "nbformat_minor": 4
}
